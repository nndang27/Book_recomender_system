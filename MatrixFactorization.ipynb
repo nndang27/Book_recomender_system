{
  "nbformat": 4,
  "nbformat_minor": 0,
  "metadata": {
    "colab": {
      "provenance": []
    },
    "kernelspec": {
      "name": "python3",
      "display_name": "Python 3"
    },
    "language_info": {
      "name": "python"
    }
  },
  "cells": [
    {
      "cell_type": "markdown",
      "source": [
        "This project reference on paper https://machinelearningcoban.com/2017/05/31/matrixfactorization/ by author Vu Huu Tiep\n"
      ],
      "metadata": {
        "id": "J2TMxjwK4pXE"
      }
    },
    {
      "cell_type": "code",
      "source": [
        "cd /content/drive/MyDrive/Book_recommender"
      ],
      "metadata": {
        "colab": {
          "base_uri": "https://localhost:8080/"
        },
        "id": "rRUA11z3iIoi",
        "outputId": "1b5bb188-abc9-4b8d-b6bb-4fea374cd7bf"
      },
      "execution_count": 9,
      "outputs": [
        {
          "output_type": "stream",
          "name": "stdout",
          "text": [
            "/content/drive/MyDrive/Book_recommender\n"
          ]
        }
      ]
    },
    {
      "cell_type": "code",
      "source": [
        "import pandas as pd \n",
        "import numpy as np\n",
        "from sklearn.metrics.pairwise import cosine_similarity\n",
        "from scipy import sparse \n",
        "import json\n",
        "import time\n",
        "from tabulate import tabulate"
      ],
      "metadata": {
        "id": "wRVDhbY65vQN"
      },
      "execution_count": 2,
      "outputs": []
    },
    {
      "cell_type": "code",
      "source": [
        "ratings = pd.read_csv('./data/train1.csv')\n",
        "Y_data = ratings.values\n",
        "ratings2 = pd.read_csv('./data/test1.csv')\n",
        "Y_data_test = ratings2.values"
      ],
      "metadata": {
        "id": "tmMyaL7q6yc3"
      },
      "execution_count": 24,
      "outputs": []
    },
    {
      "cell_type": "code",
      "source": [
        "from google.colab import drive\n",
        "drive.mount('/content/drive')"
      ],
      "metadata": {
        "colab": {
          "base_uri": "https://localhost:8080/"
        },
        "id": "PEE-TjXTh6CF",
        "outputId": "4680fd2e-732c-4903-85a1-d1a9473abd46"
      },
      "execution_count": 1,
      "outputs": [
        {
          "output_type": "stream",
          "name": "stdout",
          "text": [
            "Drive already mounted at /content/drive; to attempt to forcibly remount, call drive.mount(\"/content/drive\", force_remount=True).\n"
          ]
        }
      ]
    },
    {
      "cell_type": "code",
      "execution_count": 17,
      "metadata": {
        "id": "bTwk87i0DDB0"
      },
      "outputs": [],
      "source": [
        "\n",
        "class MF(object):\n",
        "    \"\"\"docstring for CF\"\"\"\n",
        "    def __init__(self, Y_data, Y_data_test, K, lam = 0.1, Xinit = None, Winit = None, \n",
        "                 learning_rate = 0.5, max_iter = 1000, print_every = 100, user_based = 1):\n",
        "        self.Y_raw = Y_data.copy()\n",
        "        self.Y_data_test = Y_data_test\n",
        "        # self.Y_data = Y_data.copy()\n",
        "        self.K = K\n",
        "        self.lam = lam\n",
        "        self.learning_rate = learning_rate\n",
        "        self.max_iter = max_iter\n",
        "        self.print_every = print_every\n",
        "        self.user_based = user_based\n",
        "        #List of userid\n",
        "        with open('./data/userid.json', 'r') as f:\n",
        "          self.userid = json.load(f)\n",
        "        #List of bookid\n",
        "        with open('./data/bookid.json','r') as f2:\n",
        "          self.bookid = json.load(f2)\n",
        "        #List of mean rate each users\n",
        "        with open('./data/mean_ratings.json','r') as f3:\n",
        "          self.muu = json.load(f3)\n",
        "        #List of book titles\n",
        "        with open('./data/book_title.json','r') as f4:\n",
        "          self.book_title = json.load(f4)\n",
        "\n",
        "        #Len of users   \n",
        "        self.n_users = len(self.userid)\n",
        "        #Len of items\n",
        "        self.n_items = len(self.bookid)\n",
        "        \n",
        "        self.Y_data = pd.read_csv('./data/normalize_matrix_MF.csv').values \n",
        "\n",
        "        ##Randomly W and S for training\n",
        "        # if Xinit is None: \n",
        "        #     self.X = np.random.randn(self.n_items, K)\n",
        "        # else:\n",
        "        #     self.X = Xinit \n",
        "        \n",
        "        # if Winit is None: \n",
        "        #     self.W = np.random.randn(K, self.n_users)\n",
        "        #     # print(\"W: \",self.W)\n",
        "        # else: \n",
        "        #     self.W = Winit\n",
        "        \n",
        "        # # item biases\n",
        "        # self.b = np.random.randn(self.n_items)\n",
        "        # self.d = np.random.randn(self.n_users)\n",
        "\n",
        "        ##Load the saved weights after training\n",
        "        data = np.load('./data/MF_final_parameter_X_W_b_d_version2.npz')\n",
        "        self.X = data['X']\n",
        "        self.W = data['W']\n",
        "        self.b = data['b']\n",
        "        self.d = data['d']\n",
        "\n",
        "\n",
        "        self.n_ratings = Y_data.shape[0]\n",
        "        self.mu = np.mean(Y_data[:, 2])\n",
        "        # self.mu = 0\n",
        "\n",
        "        \n",
        " \n",
        "\n",
        "    def normalize_Y(self):\n",
        "        if self.user_based:\n",
        "            user_col = 1\n",
        "            item_col = 0\n",
        "            n_objects = self.userid\n",
        "        else:\n",
        "            user_col = 0\n",
        "            item_col = 1 \n",
        "            n_objects = self.bookid\n",
        "\n",
        "        #list of user\n",
        "        users = self.Y_data[:, user_col] \n",
        "        #Initialize the list of mean rate\n",
        "        self.muu = {}\n",
        "        print(self.n_users)\n",
        "        i=0\n",
        "        for key in n_objects.keys():\n",
        "            i+=1\n",
        "            print(i)\n",
        "            # row indices of rating done by user n\n",
        "            # since indices need to be integers, we need to convert\n",
        "            ids = np.where(users == key)[0].astype(np.int32)\n",
        "            # indices of all ratings associated with user n\n",
        "            item_ids = self.Y_data[ids, item_col] \n",
        "            # and the corresponding ratings \n",
        "            ratings = self.Y_data[ids, 2]\n",
        "            # take mean\n",
        "            m = np.mean(ratings) \n",
        "            if np.isnan(m):\n",
        "                m = 0 # to avoid empty array and nan value\n",
        "\n",
        "            self.muu[key] = m\n",
        "            # normalize\n",
        "            self.Y_data[ids, 2] = ratings - m\n",
        "\n",
        "        #Save mean \n",
        "        file_path = \"./data/mean_ratings_MF.json\"\n",
        "        with open(file_path, 'w') as json_file:\n",
        "            json.dump(self.muu, json_file)\n",
        "\n",
        "        #Save normalize data\n",
        "        file_path = \"./data/normalize_matrix_MF.csv\"\n",
        "        with open(file_path, mode='w', newline='') as file:\n",
        "            writer = csv.writer(file)\n",
        "            writer.writerow([\"user\", \"book\", \"rating\"])\n",
        "            i=0\n",
        "            for row in self.Y_data:\n",
        "                i+=1\n",
        "                print(i)\n",
        "                writer.writerow(row)\n",
        "            \n",
        "            \n",
        "    def loss(self):\n",
        "        L = 0 \n",
        "        for i in range(self.n_ratings):\n",
        "            # user, item, rating\n",
        "            n, m, rate = self.userid[self.Y_data[i, 1]]-1, self.bookid[str(self.Y_data[i, 0])]-1, self.Y_data[i, 2]\n",
        "            L += 0.5*(self.X[m, :].dot(self.W[:, n]) + self.b[m] + self.d[n] + self.mu - rate)**2\n",
        "            \n",
        "        # regularization, don't ever forget this \n",
        "        L /= self.n_ratings\n",
        "        L += 0.5*self.lam*(np.linalg.norm(self.X, 'fro') + np.linalg.norm(self.W, 'fro') + np.linalg.norm(self.b) + np.linalg.norm(self.d))\n",
        "        return L \n",
        "\n",
        "    \n",
        "    def get_items_rated_by_user(self, user_id):\n",
        "        \"\"\"\n",
        "        get all items which are rated by user n, and the corresponding ratings\n",
        "        \"\"\"\n",
        "        ids = np.where(self.Y_data[:,1] == user_id)[0] \n",
        "        item_ids = self.Y_data[ids, 0] \n",
        "        ratings = self.Y_data[ids, 2]\n",
        "        return (item_ids, ratings)\n",
        "        \n",
        "        \n",
        "    def get_users_who_rate_item(self, item_id):\n",
        "        \"\"\"\n",
        "        get all users who rated item m and get the corresponding ratings\n",
        "        \"\"\"\n",
        "        ids = np.where(self.Y_data[:,0] == int(item_id))[0] \n",
        "        user_ids = self.Y_data[ids, 1]\n",
        "        ratings = self.Y_data[ids, 2]\n",
        "        return (user_ids, ratings)\n",
        "        \n",
        "    def updateX(self):\n",
        "        for book in self.bookid.keys():\n",
        "            user_ids, ratings = self.get_users_who_rate_item(book)\n",
        "            Wm = self.W[:, [self.userid[i]-1 for i in user_ids]]\n",
        "            dm = self.d[[self.userid[i]-1 for i in user_ids]]\n",
        "            xm = self.X[self.bookid[str(book)]-1, :]\n",
        "            \n",
        "            error = xm.dot(Wm) + self.b[self.bookid[str(book)]-1] + dm + self.mu - ratings \n",
        "            \n",
        "            grad_xm = error.dot(Wm.T)/self.n_ratings + self.lam*xm\n",
        "            grad_bm = np.sum(error)/self.n_ratings + self.lam*self.b[self.bookid[str(book)]-1]\n",
        "            self.X[self.bookid[str(book)]-1, :] -= self.learning_rate*grad_xm.reshape((self.K,)).astype('float64')\n",
        "            self.b[self.bookid[str(book)]-1]    -= self.learning_rate*grad_bm\n",
        "            # print(\"X: \",self.X[self.bookid[str(book)], :],\"bias: \", self.b[self.bookid[str(book)]])\n",
        "        print(\"end of X\")\n",
        "\n",
        "    \n",
        "    def updateW(self):\n",
        "        for user in self.userid.keys():\n",
        "            item_ids, ratings = self.get_items_rated_by_user(user)\n",
        "            Xn = self.X[[self.bookid[str(i)]-1 for i in item_ids], :]\n",
        "            bn = self.b[[self.bookid[str(i)]-1 for i in item_ids]]\n",
        "            wn = self.W[:, self.userid[user]-1]\n",
        "            \n",
        "            error = Xn.dot(wn) + bn + self.mu + self.d[self.userid[user]-1] - ratings\n",
        "            grad_wn = Xn.T.dot(error)/self.n_ratings + self.lam*wn\n",
        "            grad_dn = np.sum(error)/self.n_ratings + self.lam*self.d[self.userid[user]-1]\n",
        "            self.W[:, self.userid[user]-1] -= self.learning_rate*grad_wn.reshape((self.K,)).astype('float64')\n",
        "            self.d[self.userid[user]-1]    -= self.learning_rate*grad_dn\n",
        "            # print(\"W: \",self.W[:, self.userid[user]],\"bias: \",self.d[self.userid[user]])\n",
        "        print(\"end of W\")\n",
        "    \n",
        "    def fit(self):\n",
        "        # self.normalize_Y()\n",
        "        loss = []\n",
        "        train_error = []\n",
        "        test_error = []\n",
        "        data = np.load(\"./data/Sai_so2.npz\")\n",
        "\n",
        "        # Extract the list from the loaded data\n",
        "        train_error = data['RMSE_train']\n",
        "        test_error = data['RMSE_test']\n",
        "        loss = data['loss']\n",
        "        for it in range(self.max_iter):\n",
        "            start_time = time.time()\n",
        "            print(\"iteration: \",it+1)\n",
        "            self.updateX()\n",
        "            self.updateW()\n",
        "            \n",
        "            end_time = time.time()\n",
        "            execution_time = end_time - start_time\n",
        "            print(\"TIME PER ITER: \", execution_time)\n",
        "            if (it + 1) % self.print_every == 0:\n",
        "                rmse_train = self.evaluate_RMSE(self.Y_raw)\n",
        "                rmse_test  = self.evaluate_RMSE(self.Y_data_test)\n",
        "                np.append(train_error,rmse_train)\n",
        "                np.append(test_error,rmse_test)\n",
        "                a=self.loss()\n",
        "                np.append(loss, a)\n",
        "                print('iter =', it + 1, ', loss =', a, ', RMSE train =', rmse_train, 'RMSE test = ', rmse_test)\n",
        "\n",
        "                np.savez('./data/MF_final_parameter_X_W_b_d_version3.npz', X=self.X, W=self.W, b=self.b, d=self.d)\n",
        "                np.savez('./data/Sai_so2.npz', RMSE_train=train_error, RMSE_test=test_error, loss=loss)\n",
        "        \n",
        "    \n",
        "    \n",
        "    def pred(self, u, i):\n",
        "        \"\"\" \n",
        "        predict the rating of user u for item i \n",
        "        if you need the un\n",
        "        \"\"\"\n",
        "        \n",
        "        if self.user_based == 1:\n",
        "            normalize_back = self.muu[u]\n",
        "        else:\n",
        "            normalize_back = self.muu[i]\n",
        "\n",
        "        u = self.userid[u]-1\n",
        "        i = self.bookid[str(i)]-1\n",
        "        \n",
        "        pred = self.X[i, :].dot(self.W[:, u]) + self.b[i] + self.d[u] + normalize_back\n",
        "#         if pred < 0:\n",
        "#             return 0 \n",
        "#         if pred > 5: \n",
        "#             return 5 \n",
        "#         return pred \n",
        "        return max(0, min(5, pred))\n",
        "        \n",
        "    \n",
        "    def pred_for_user(self, user_id):\n",
        "        ids = np.where(self.Y_raw[:, 1] == user_id)[0]\n",
        "        items_rated_by_u = self.Y_raw[ids, 0].tolist()              \n",
        "\n",
        "        if self.user_based == 1:\n",
        "            normalize_back = self.muu[user_id]\n",
        "        else:\n",
        "            normalize_back = self.muu[i]\n",
        "\n",
        "        user_id = self.userid[user_id]-1\n",
        "        y_pred = self.X.dot(self.W[:, user_id]) + self.b + self.d[user_id] + normalize_back\n",
        "        book_order_list = [self.bookid[str(i)] for i in items_rated_by_u ]\n",
        "        # print(book_order_list)\n",
        "        itss = [i-1 for i in book_order_list]\n",
        "\n",
        "        # print(\"y_pred: \",y_pred)\n",
        "        predicted_ratings= {}\n",
        "        index = 0\n",
        "        for i in self.bookid.keys():\n",
        "            if int(i) not in items_rated_by_u:\n",
        "                index+=1\n",
        "                # i là tên sách book order là thứ tự của sách = thứ tự của sách tương ứng trong y_pred\n",
        "                book_order = self.bookid[i] - 1\n",
        "                if i not in self.book_title.keys():\n",
        "                  continue\n",
        "                book_title = self.book_title[i]\n",
        "                predicted_ratings[book_title] = y_pred[book_order]\n",
        "\n",
        "        predicted_ratings = dict(sorted(predicted_ratings.items(), key=lambda item: item[1]))\n",
        "        data = [[title, rating] for title, rating in predicted_ratings.items()]\n",
        "        #Only pick top 10 highest score books\n",
        "        data = data[-10:]\n",
        "        table = tabulate(data[::-1], headers=[\"Title\", \"Rating\"], tablefmt=\"grid\")\n",
        "        print(\"Top recomended books for user: \", target_user)\n",
        "        print(table)\n",
        "        return predicted_ratings\n",
        "    \n",
        "    def evaluate_RMSE(self, rate_test):\n",
        "        n_tests = rate_test.shape[0]\n",
        "        SE = 0 # squared error\n",
        "        k=0\n",
        "        for n in range(n_tests):\n",
        "          if rate_test[n, 1] not in rs.userid.keys():\n",
        "            continue\n",
        "          if str(rate_test[n, 0]) not in rs.bookid.keys():\n",
        "            continue\n",
        "          k+=1\n",
        "          # print(k)\n",
        "          pred = self.pred(rate_test[n, 1], rate_test[n, 0])\n",
        "#             print pred, rate_test[n, 2]\n",
        "          SE += (pred - rate_test[n, 2])**2 \n",
        "        print(k)\n",
        "        RMSE = np.sqrt(SE/n_tests)\n",
        "        return RMSE\n",
        "        \n",
        "# loss = 7.474733146084495 , RMSE train = 1.057749948147554"
      ]
    },
    {
      "cell_type": "code",
      "source": [
        "rs = MF(Y_data, Y_data_test, K = 3, max_iter = 35, print_every = 5, lam = 0.)\n",
        "\n",
        "start_time = time.time()\n",
        "target_user = 'f14eb7b97b91a036f392e8374ac1ba89'\n",
        "a=rs.pred_for_user(target_user)\n",
        "\n",
        "\n",
        "end_time = time.time()\n",
        "execution_time = end_time - start_time\n",
        "print(\"Execution time:\", execution_time, \"seconds\")\n",
        "# rs.normalize_Y()\n",
        "# rs.fit()\n",
        "# rs.pred('05094dcfaac099025c7ddb4cdd2be942', 16729)\n",
        "\n",
        "# print(rs.evaluate_RMSE(Y_data_test))\n",
        "# print(rs.loss())\n",
        "#RMSE= 1.1799055787033665"
      ],
      "metadata": {
        "colab": {
          "base_uri": "https://localhost:8080/"
        },
        "id": "NhHvScih70qN",
        "outputId": "66f143cf-13ba-450e-89ed-f3b03eb29d7c"
      },
      "execution_count": 18,
      "outputs": [
        {
          "output_type": "stream",
          "name": "stdout",
          "text": [
            "Top recomended books for user:  f14eb7b97b91a036f392e8374ac1ba89\n",
            "+------------------------------------------------+----------+\n",
            "| Title                                          |   Rating |\n",
            "+================================================+==========+\n",
            "| Julia's Last Hope (Women of the West, #2)      |  2.94876 |\n",
            "+------------------------------------------------+----------+\n",
            "| Thirst                                         |  2.94735 |\n",
            "+------------------------------------------------+----------+\n",
            "| Yoga: The Science of the Soul                  |  2.94726 |\n",
            "+------------------------------------------------+----------+\n",
            "| The Light of Day                               |  2.94617 |\n",
            "+------------------------------------------------+----------+\n",
            "| Sideways                                       |  2.94598 |\n",
            "+------------------------------------------------+----------+\n",
            "| The Far Side Gallery                           |  2.94388 |\n",
            "+------------------------------------------------+----------+\n",
            "| Travels in the Congo                           |  2.94369 |\n",
            "+------------------------------------------------+----------+\n",
            "| Break In (Kit Fielding, #1)                    |  2.94292 |\n",
            "+------------------------------------------------+----------+\n",
            "| Desertion                                      |  2.94286 |\n",
            "+------------------------------------------------+----------+\n",
            "| The Burgundian's Tale (Roger the Chapman, #14) |  2.94249 |\n",
            "+------------------------------------------------+----------+\n",
            "Execution time: 0.23439931869506836 seconds\n"
          ]
        }
      ]
    },
    {
      "cell_type": "code",
      "source": [
        "import matplotlib.pyplot as plt\n",
        "import numpy as np\n",
        "\n",
        "# Load the .npz file\n",
        "data = np.load(\"./data/Sai_so.npz\")\n",
        "\n",
        "# Extract the list from the loaded data\n",
        "RMSE_train = data['RMSE_train']\n",
        "RMSE_test = data['RMSE_test']\n",
        "print(RMSE_train)\n",
        "print(RMSE_test)\n",
        "loss = data['loss']\n",
        "iter = [5,10,15,20,25,30,35,40,45,50,55,60,65,70,75,80,85,90,95,100]\n",
        "plt.plot(iter, RMSE_train)\n",
        "plt.plot(iter, RMSE_test)\n",
        "plt.xlabel('iteration')\n",
        "plt.ylabel('RMSE')\n",
        "plt.title('Evaluet on training and test after each epoch')\n",
        "plt.yticks([0, 0.5, 1.0, 2.0, 3.0])  # Chỉ hiển thị chỉ mục 20, 30, 40 trên trục x\n",
        "plt.xticks([0, 20, 40 , 60, 100])\n",
        "plt.show()"
      ],
      "metadata": {
        "colab": {
          "base_uri": "https://localhost:8080/",
          "height": 616
        },
        "id": "8RpJ8gptM1HR",
        "outputId": "9084adcd-15ba-4d58-e975-d55c53bd7c3e"
      },
      "execution_count": 22,
      "outputs": [
        {
          "output_type": "stream",
          "name": "stdout",
          "text": [
            "[1.60530255 1.39645845 1.26188279 1.17909304 1.12922811 1.0996824\n",
            " 1.08232448 1.07211691 1.06611493 1.06258936 1.0605244  1.05931836\n",
            " 1.05861855 1.05821665 1.05798886 1.05786224 1.05779405 1.0577591\n",
            " 1.05774273 1.05773643]\n",
            "[1.64068823 1.46251666 1.34872721 1.27981999 1.23898254 1.21485111\n",
            " 1.20070444 1.19231322 1.1873388  1.18438745 1.18263321 1.18158021\n",
            " 1.18094745 1.18056706 1.18033607 1.18019249 1.18010169 1.18004333\n",
            " 1.18000513 1.17997929]\n"
          ]
        },
        {
          "output_type": "display_data",
          "data": {
            "text/plain": [
              "<Figure size 640x480 with 1 Axes>"
            ],
            "image/png": "[encoded data removed]"
          },
          "metadata": {}
        }
      ]
    },
    {
      "cell_type": "code",
      "source": [
        "import matplotlib.pyplot as plt\n",
        "import numpy as np\n",
        "\n",
        "# Load the .npz file\n",
        "\n",
        "# Extract the list from the loaded data\n",
        "RMSE_train = [1.89600728, 1.89665337, 1.89732278, 1.89801687, 1.89873633, 1.89948176, 1.9002533,  1.90105408, 1.90188174, 1.90273536, 1.90361426, 1.90452209, 1.90545632]\n",
        "RMSE_test = [1.89211838, 1.89285984, 1.89362807, 1.89441505, 1.89521912, 1.8960398, 1.8968718,  1.89772426, 1.89860101, 1.89950167, 1.90042604, 1.90137119, 1.90233276]\n",
        "\n",
        "iter = [5,10,15,20,25,30,35,40,45,50,55,60,65]\n",
        "plt.plot(iter, RMSE_train)\n",
        "plt.plot(iter, RMSE_test)\n",
        "plt.xlabel('iteration')\n",
        "plt.ylabel('RMSE')\n",
        "plt.title('Mối quan hệ giữa RMSE và iteration')\n",
        "plt.yticks([1.80, 1.85, 1.90, 2.0])  # Chỉ hiển thị chỉ mục 20, 30, 40 trên trục x\n",
        "plt.xticks([0, 20, 40 , 60, 100])\n",
        "plt.show()"
      ],
      "metadata": {
        "colab": {
          "base_uri": "https://localhost:8080/",
          "height": 473
        },
        "id": "7B2Yr8lWPtEj",
        "outputId": "8f0f710c-1a80-414f-f788-ba43eda3a40a"
      },
      "execution_count": null,
      "outputs": [
        {
          "output_type": "display_data",
          "data": {
            "text/plain": [
              "<Figure size 640x480 with 1 Axes>"
            ],
            "image/png": "[encoded data removed]"
          },
          "metadata": {}
        }
      ]
    },
    {
      "cell_type": "code",
      "source": [
        "import matplotlib.pyplot as plt\n",
        "import numpy as np\n",
        "\n",
        "# Load the .npz file\n",
        "data = np.load(\"./data/Sai_so2.npz\")\n",
        "\n",
        "# Extract the list from the loaded data\n",
        "RMSE_train = data['RMSE_train']\n",
        "RMSE_test = data['RMSE_test']\n",
        "loss = data['loss']\n",
        "print(RMSE_train)\n",
        "print(RMSE_test)\n",
        "\n",
        "# [1.89600728 1.89665337 1.89732278 1.89801687 1.89873633 1.89948176\n",
        "#  1.9002533  1.90105408 1.90188174 1.90273536 1.90361426 1.90452209\n",
        "#  1.90545632]\n",
        "# [1.89211838 1.89285984 1.89362807 1.89441505 1.89521912 1.8960398\n",
        "#  1.8968718  1.89772426 1.89860101 1.89950167 1.90042604 1.90137119\n",
        "#  1.90233276]"
      ],
      "metadata": {
        "colab": {
          "base_uri": "https://localhost:8080/"
        },
        "id": "Taw_wg_vj77N",
        "outputId": "585a38f1-0236-41b9-9fe0-243e3e7ecf6b"
      },
      "execution_count": null,
      "outputs": [
        {
          "output_type": "stream",
          "name": "stdout",
          "text": [
            "[1.89600728 1.89665337 1.89732278 1.89801687 1.89873633 1.89948176\n",
            " 1.9002533  1.90105408 1.90188174 1.90273536 1.90361426 1.90452209\n",
            " 1.90545632]\n",
            "[1.89211838 1.89285984 1.89362807 1.89441505 1.89521912 1.8960398\n",
            " 1.8968718  1.89772426 1.89860101 1.89950167 1.90042604 1.90137119\n",
            " 1.90233276]\n"
          ]
        }
      ]
    }
  ]
}